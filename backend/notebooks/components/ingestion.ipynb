{
 "cells": [
  {
   "cell_type": "code",
   "execution_count": 2,
   "metadata": {},
   "outputs": [],
   "source": [
    "from docling.document_converter import DocumentConverter\n",
    "from llama_index.core.storage.docstore import SimpleDocumentStore\n",
    "from llama_index.node_parser.docling import DoclingNodeParser\n",
    "from llama_index.readers.docling import DoclingReader"
   ]
  },
  {
   "cell_type": "code",
   "execution_count": null,
   "metadata": {},
   "outputs": [],
   "source": [
    "def convert_file_to_docling_docs(file_path: str):\n",
    "    converter = DocumentConverter()\n",
    "    reader = DoclingReader(export_type=DoclingReader.ExportType.JSON, doc_converter=converter)\n",
    "    documents = reader.load_data(file_path)\n",
    "\n",
    "    docstore = SimpleDocumentStore()\n",
    "    docstore.add_documents(documents)\n",
    "\n",
    "    output = docstore.to_dict()\n",
    "    return output"
   ]
  }
 ],
 "metadata": {
  "kernelspec": {
   "display_name": "Python 3",
   "language": "python",
   "name": "python3"
  },
  "language_info": {
   "codemirror_mode": {
    "name": "ipython",
    "version": 3
   },
   "file_extension": ".py",
   "mimetype": "text/x-python",
   "name": "python",
   "nbconvert_exporter": "python",
   "pygments_lexer": "ipython3",
   "version": "3.12.9"
  }
 },
 "nbformat": 4,
 "nbformat_minor": 2
}
