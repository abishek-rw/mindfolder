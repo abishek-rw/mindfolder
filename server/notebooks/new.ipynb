{
 "cells": [
  {
   "cell_type": "code",
   "execution_count": 1,
   "metadata": {},
   "outputs": [
    {
     "name": "stderr",
     "output_type": "stream",
     "text": [
      "c:\\Users\\HariharanAS\\Desktop\\folder\\.venv\\Lib\\site-packages\\tqdm\\auto.py:21: TqdmWarning: IProgress not found. Please update jupyter and ipywidgets. See https://ipywidgets.readthedocs.io/en/stable/user_install.html\n",
      "  from .autonotebook import tqdm as notebook_tqdm\n"
     ]
    }
   ],
   "source": [
    "from docling.document_converter import DocumentConverter, PdfFormatOption, WordFormatOption, ExcelFormatOption\n",
    "from docling.datamodel.pipeline_options import (\n",
    "    PdfPipelineOptions,\n",
    "    TableFormerMode,\n",
    "    AcceleratorDevice,\n",
    "    AcceleratorOptions,\n",
    "    RapidOcrOptions,\n",
    ")\n",
    "from docling.datamodel.base_models import InputFormat\n",
    "from docling.backend import pypdfium2_backend\n",
    "from docling_core.transforms.chunker.hybrid_chunker import HybridChunker\n",
    "from docling.pipeline.simple_pipeline import SimplePipeline"
   ]
  },
  {
   "cell_type": "code",
   "execution_count": 5,
   "metadata": {},
   "outputs": [],
   "source": [
    "def scrape_file(file_path):\n",
    "    try:\n",
    "        ocr_options = RapidOcrOptions()\n",
    "        pipeline_options = PdfPipelineOptions(do_table_structure=True, do_ocr=True)\n",
    "        pipeline_options.ocr_options = ocr_options\n",
    "        pipeline_options.ocr_options.lang = [\"en\"]\n",
    "        pipeline_options.accelerator_options = AcceleratorOptions(\n",
    "            num_threads=4, device=AcceleratorDevice.CUDA\n",
    "        )\n",
    "        pipeline_options.table_structure_options.do_cell_matching = False\n",
    "        pipeline_options.table_structure_options.mode = TableFormerMode.ACCURATE\n",
    "\n",
    "        pipeline_options.create_legacy_output = True\n",
    "\n",
    "        converter = DocumentConverter(\n",
    "            allowed_formats=[\n",
    "                InputFormat.PDF,\n",
    "                InputFormat.IMAGE,\n",
    "                InputFormat.DOCX,\n",
    "                InputFormat.HTML,\n",
    "                InputFormat.PPTX,\n",
    "                InputFormat.ASCIIDOC,\n",
    "                InputFormat.MD,\n",
    "                InputFormat.XLSX,\n",
    "            ],\n",
    "            format_options={\n",
    "                InputFormat.PDF: PdfFormatOption(\n",
    "                    pipeline_options=pipeline_options,\n",
    "                    backend=pypdfium2_backend.PyPdfiumDocumentBackend,\n",
    "                ),\n",
    "                InputFormat.DOCX: WordFormatOption(\n",
    "                    pipeline_cls=SimplePipeline  \n",
    "                ),\n",
    "                InputFormat.XLSX: ExcelFormatOption(\n",
    "                    pipeline_cls=SimplePipeline\n",
    "                ),\n",
    "            }\n",
    "        )\n",
    "        doc = converter.convert(source=file_path).document\n",
    "        print(\"Processed\")\n",
    "        return doc\n",
    "    except Exception as e:\n",
    "        return e"
   ]
  },
  {
   "cell_type": "code",
   "execution_count": 25,
   "metadata": {},
   "outputs": [],
   "source": [
    "file = r'C:\\Users\\HariharanAS\\Desktop\\folder\\combined_chart.png'\n"
   ]
  },
  {
   "cell_type": "code",
   "execution_count": 26,
   "metadata": {},
   "outputs": [
    {
     "name": "stderr",
     "output_type": "stream",
     "text": [
      "Downloading detection model, please wait. This may take several minutes depending upon your network connection.\n",
      "Downloading recognition model, please wait. This may take several minutes depending upon your network connection.\n"
     ]
    },
    {
     "name": "stdout",
     "output_type": "stream",
     "text": [
      "Processed\n"
     ]
    },
    {
     "data": {
      "text/plain": [
       "DoclingDocument(schema_name='DoclingDocument', version='1.0.0', name='combined_chart', origin=DocumentOrigin(mimetype='application/pdf', binary_hash=5868393679793775344, filename='combined_chart.png', uri=None), furniture=GroupItem(self_ref='#/furniture', parent=None, children=[], name='_root_', label=<GroupLabel.UNSPECIFIED: 'unspecified'>), body=GroupItem(self_ref='#/body', parent=None, children=[RefItem(cref='#/pictures/0')], name='_root_', label=<GroupLabel.UNSPECIFIED: 'unspecified'>), groups=[], texts=[TextItem(self_ref='#/texts/0', parent=RefItem(cref='#/pictures/0'), children=[], label=<DocItemLabel.TEXT: 'text'>, prov=[ProvenanceItem(page_no=1, bbox=BoundingBox(l=1.6666666666666667, t=1109.6666666666667, r=36.0, b=1083.0, coord_origin=<CoordOrigin.BOTTOMLEFT: 'BOTTOMLEFT'>), charspan=(0, 2))], orig='25', text='25'), TextItem(self_ref='#/texts/1', parent=RefItem(cref='#/pictures/0'), children=[], label=<DocItemLabel.TEXT: 'text'>, prov=[ProvenanceItem(page_no=1, bbox=BoundingBox(l=1141.0, t=1095.6666666666667, r=1381.3333333333333, b=1071.6666666666667, coord_origin=<CoordOrigin.BOTTOMLEFT: 'BOTTOMLEFT'>), charspan=(0, 20))], orig='Gaze Direction Count', text='Gaze Direction Count'), TextItem(self_ref='#/texts/2', parent=RefItem(cref='#/pictures/0'), children=[], label=<DocItemLabel.TEXT: 'text'>, prov=[ProvenanceItem(page_no=1, bbox=BoundingBox(l=1.6666666666666667, t=1052.6666666666667, r=37.333333333333336, b=1026.0, coord_origin=<CoordOrigin.BOTTOMLEFT: 'BOTTOMLEFT'>), charspan=(0, 2))], orig='20', text='20'), TextItem(self_ref='#/texts/3', parent=RefItem(cref='#/pictures/0'), children=[], label=<DocItemLabel.TEXT: 'text'>, prov=[ProvenanceItem(page_no=1, bbox=BoundingBox(l=304.3333333333333, t=1064.3333333333333, r=340.6666666666667, b=1035.6666666666667, coord_origin=<CoordOrigin.BOTTOMLEFT: 'BOTTOMLEFT'>), charspan=(0, 2))], orig='21', text='21'), TextItem(self_ref='#/texts/4', parent=RefItem(cref='#/pictures/0'), children=[], label=<DocItemLabel.TEXT: 'text'>, prov=[ProvenanceItem(page_no=1, bbox=BoundingBox(l=812.6666666666666, t=1063.0, r=852.0, b=1037.3333333333333, coord_origin=<CoordOrigin.BOTTOMLEFT: 'BOTTOMLEFT'>), charspan=(0, 3))], orig='3.0', text='3.0'), TextItem(self_ref='#/texts/5', parent=RefItem(cref='#/pictures/0'), children=[], label=<DocItemLabel.TEXT: 'text'>, prov=[ProvenanceItem(page_no=1, bbox=BoundingBox(l=810.0, t=1023.6666666666666, r=852.0, b=997.0, coord_origin=<CoordOrigin.BOTTOMLEFT: 'BOTTOMLEFT'>), charspan=(0, 3))], orig='2.5', text='2.5'), TextItem(self_ref='#/texts/6', parent=RefItem(cref='#/pictures/0'), children=[], label=<DocItemLabel.TEXT: 'text'>, prov=[ProvenanceItem(page_no=1, bbox=BoundingBox(l=3.0, t=993.3333333333334, r=37.333333333333336, b=968.0, coord_origin=<CoordOrigin.BOTTOMLEFT: 'BOTTOMLEFT'>), charspan=(0, 2))], orig='15', text='15'), TextItem(self_ref='#/texts/7', parent=RefItem(cref='#/pictures/0'), children=[], label=<DocItemLabel.TEXT: 'text'>, prov=[ProvenanceItem(page_no=1, bbox=BoundingBox(l=811.3333333333334, t=983.3333333333334, r=852.0, b=959.0, coord_origin=<CoordOrigin.BOTTOMLEFT: 'BOTTOMLEFT'>), charspan=(0, 2))], orig='20', text='20'), TextItem(self_ref='#/texts/8', parent=RefItem(cref='#/pictures/0'), children=[], label=<DocItemLabel.TEXT: 'text'>, prov=[ProvenanceItem(page_no=1, bbox=BoundingBox(l=3.0, t=936.6666666666666, r=37.333333333333336, b=911.0, coord_origin=<CoordOrigin.BOTTOMLEFT: 'BOTTOMLEFT'>), charspan=(0, 2))], orig='10', text='10'), TextItem(self_ref='#/texts/9', parent=RefItem(cref='#/pictures/0'), children=[], label=<DocItemLabel.TEXT: 'text'>, prov=[ProvenanceItem(page_no=1, bbox=BoundingBox(l=812.6666666666666, t=943.0, r=852.0, b=917.3333333333334, coord_origin=<CoordOrigin.BOTTOMLEFT: 'BOTTOMLEFT'>), charspan=(0, 3))], orig='1.5', text='1.5'), TextItem(self_ref='#/texts/10', parent=RefItem(cref='#/pictures/0'), children=[], label=<DocItemLabel.TEXT: 'text'>, prov=[ProvenanceItem(page_no=1, bbox=BoundingBox(l=812.6666666666666, t=902.3333333333334, r=852.0, b=877.0, coord_origin=<CoordOrigin.BOTTOMLEFT: 'BOTTOMLEFT'>), charspan=(0, 3))], orig='1.0', text='1.0'), TextItem(self_ref='#/texts/11', parent=RefItem(cref='#/pictures/0'), children=[], label=<DocItemLabel.TEXT: 'text'>, prov=[ProvenanceItem(page_no=1, bbox=BoundingBox(l=17.0, t=878.0, r=37.0, b=854.6666666666667, coord_origin=<CoordOrigin.BOTTOMLEFT: 'BOTTOMLEFT'>), charspan=(0, 1))], orig='5', text='5'), TextItem(self_ref='#/texts/12', parent=RefItem(cref='#/pictures/0'), children=[], label=<DocItemLabel.TEXT: 'text'>, prov=[ProvenanceItem(page_no=1, bbox=BoundingBox(l=100.66666666666667, t=855.0, r=118.66666666666667, b=832.3333333333333, coord_origin=<CoordOrigin.BOTTOMLEFT: 'BOTTOMLEFT'>), charspan=(0, 1))], orig='3', text='3'), TextItem(self_ref='#/texts/13', parent=RefItem(cref='#/pictures/0'), children=[], label=<DocItemLabel.TEXT: 'text'>, prov=[ProvenanceItem(page_no=1, bbox=BoundingBox(l=811.3333333333334, t=862.0, r=852.0, b=837.6666666666667, coord_origin=<CoordOrigin.BOTTOMLEFT: 'BOTTOMLEFT'>), charspan=(0, 3))], orig='0.5', text='0.5'), TextItem(self_ref='#/texts/14', parent=RefItem(cref='#/pictures/0'), children=[], label=<DocItemLabel.TEXT: 'text'>, prov=[ProvenanceItem(page_no=1, bbox=BoundingBox(l=206.66666666666666, t=844.0, r=227.66666666666666, b=819.3333333333333, coord_origin=<CoordOrigin.BOTTOMLEFT: 'BOTTOMLEFT'>), charspan=(0, 1))], orig='2', text='2'), TextItem(self_ref='#/texts/15', parent=RefItem(cref='#/pictures/0'), children=[], label=<DocItemLabel.TEXT: 'text'>, prov=[ProvenanceItem(page_no=1, bbox=BoundingBox(l=339.0, t=840.6666666666667, r=492.0, b=813.6666666666667, coord_origin=<CoordOrigin.BOTTOMLEFT: 'BOTTOMLEFT'>), charspan=(0, 13))], orig='Mobile Status', text='Mobile Status'), TextItem(self_ref='#/texts/16', parent=RefItem(cref='#/pictures/0'), children=[], label=<DocItemLabel.TEXT: 'text'>, prov=[ProvenanceItem(page_no=1, bbox=BoundingBox(l=1155.0, t=840.6666666666667, r=1367.3333333333333, b=813.6666666666667, coord_origin=<CoordOrigin.BOTTOMLEFT: 'BOTTOMLEFT'>), charspan=(0, 17))], orig='Yawn Status Count', text='Yawn Status Count'), TextItem(self_ref='#/texts/17', parent=RefItem(cref='#/pictures/0'), children=[], label=<DocItemLabel.TEXT: 'text'>, prov=[ProvenanceItem(page_no=1, bbox=BoundingBox(l=17.0, t=821.3333333333333, r=37.0, b=797.6666666666667, coord_origin=<CoordOrigin.BOTTOMLEFT: 'BOTTOMLEFT'>), charspan=(0, 1))], orig='0', text='0'), TextItem(self_ref='#/texts/18', parent=RefItem(cref='#/pictures/0'), children=[], label=<DocItemLabel.TEXT: 'text'>, prov=[ProvenanceItem(page_no=1, bbox=BoundingBox(l=223.66666666666666, t=803.0, r=262.3333333333333, b=774.3333333333333, coord_origin=<CoordOrigin.BOTTOMLEFT: 'BOTTOMLEFT'>), charspan=(0, 2))], orig='34', text='34'), TextItem(self_ref='#/texts/19', parent=RefItem(cref='#/pictures/0'), children=[], label=<DocItemLabel.TEXT: 'text'>, prov=[ProvenanceItem(page_no=1, bbox=BoundingBox(l=3.0, t=772.3333333333333, r=37.333333333333336, b=747.0, coord_origin=<CoordOrigin.BOTTOMLEFT: 'BOTTOMLEFT'>), charspan=(0, 2))], orig='30', text='30'), TextItem(self_ref='#/texts/20', parent=RefItem(cref='#/pictures/0'), children=[], label=<DocItemLabel.TEXT: 'text'>, prov=[ProvenanceItem(page_no=1, bbox=BoundingBox(l=188.33333333333334, t=785.0, r=247.0, b=755.3333333333333, coord_origin=<CoordOrigin.BOTTOMLEFT: 'BOTTOMLEFT'>), charspan=(0, 5))], orig='Fearl', text='Fearl'), TextItem(self_ref='#/texts/21', parent=RefItem(cref='#/pictures/0'), children=[], label=<DocItemLabel.TEXT: 'text'>, prov=[ProvenanceItem(page_no=1, bbox=BoundingBox(l=284.6666666666667, t=783.6666666666667, r=367.0, b=758.3333333333333, coord_origin=<CoordOrigin.BOTTOMLEFT: 'BOTTOMLEFT'>), charspan=(0, 7))], orig='Neutral', text='Neutral'), TextItem(self_ref='#/texts/22', parent=RefItem(cref='#/pictures/0'), children=[], label=<DocItemLabel.TEXT: 'text'>, prov=[ProvenanceItem(page_no=1, bbox=BoundingBox(l=406.0, t=787.0, r=457.6666666666667, b=757.0, coord_origin=<CoordOrigin.BOTTOMLEFT: 'BOTTOMLEFT'>), charspan=(0, 3))], orig='Sad', text='Sad'), TextItem(self_ref='#/texts/23', parent=RefItem(cref='#/pictures/0'), children=[], label=<DocItemLabel.TEXT: 'text'>, prov=[ProvenanceItem(page_no=1, bbox=BoundingBox(l=497.0, t=786.0, r=586.6666666666666, b=752.6666666666667, coord_origin=<CoordOrigin.BOTTOMLEFT: 'BOTTOMLEFT'>), charspan=(0, 7))], orig='Disgust', text='Disgust'), TextItem(self_ref='#/texts/24', parent=RefItem(cref='#/pictures/0'), children=[], label=<DocItemLabel.TEXT: 'text'>, prov=[ProvenanceItem(page_no=1, bbox=BoundingBox(l=608.0, t=787.0, r=690.0, b=750.6666666666667, coord_origin=<CoordOrigin.BOTTOMLEFT: 'BOTTOMLEFT'>), charspan=(0, 5))], orig='Happy', text='Happy'), TextItem(self_ref='#/texts/25', parent=RefItem(cref='#/pictures/0'), children=[], label=<DocItemLabel.TEXT: 'text'>, prov=[ProvenanceItem(page_no=1, bbox=BoundingBox(l=707.0, t=785.6666666666667, r=806.0, b=753.6666666666667, coord_origin=<CoordOrigin.BOTTOMLEFT: 'BOTTOMLEFT'>), charspan=(0, 8))], orig='Surprise', text='Surprise'), TextItem(self_ref='#/texts/26', parent=RefItem(cref='#/pictures/0'), children=[], label=<DocItemLabel.TEXT: 'text'>, prov=[ProvenanceItem(page_no=1, bbox=BoundingBox(l=917.3333333333334, t=788.0, r=1011.3333333333334, b=754.3333333333333, coord_origin=<CoordOrigin.BOTTOMLEFT: 'BOTTOMLEFT'>), charspan=(0, 8))], orig='Blinking', text='Blinking'), TextItem(self_ref='#/texts/27', parent=RefItem(cref='#/pictures/0'), children=[], label=<DocItemLabel.TEXT: 'text'>, prov=[ProvenanceItem(page_no=1, bbox=BoundingBox(l=1167.0, t=785.6666666666667, r=1225.3333333333333, b=753.6666666666667, coord_origin=<CoordOrigin.BOTTOMLEFT: 'BOTTOMLEFT'>), charspan=(0, 5))], orig='right', text='right'), TextItem(self_ref='#/texts/28', parent=RefItem(cref='#/pictures/0'), children=[], label=<DocItemLabel.TEXT: 'text'>, prov=[ProvenanceItem(page_no=1, bbox=BoundingBox(l=1271.0, t=789.0, r=1406.0, b=754.3333333333333, coord_origin=<CoordOrigin.BOTTOMLEFT: 'BOTTOMLEFT'>), charspan=(0, 12))], orig='Looking left', text='Looking left'), TextItem(self_ref='#/texts/29', parent=RefItem(cref='#/pictures/0'), children=[], label=<DocItemLabel.TEXT: 'text'>, prov=[ProvenanceItem(page_no=1, bbox=BoundingBox(l=1441.0, t=788.6666666666667, r=1611.0, b=752.6666666666667, coord_origin=<CoordOrigin.BOTTOMLEFT: 'BOTTOMLEFT'>), charspan=(0, 14))], orig='Looking center', text='Looking center'), TextItem(self_ref='#/texts/30', parent=RefItem(cref='#/pictures/0'), children=[], label=<DocItemLabel.TEXT: 'text'>, prov=[ProvenanceItem(page_no=1, bbox=BoundingBox(l=811.3333333333334, t=747.0, r=858.3333333333334, b=721.6666666666667, coord_origin=<CoordOrigin.BOTTOMLEFT: 'BOTTOMLEFT'>), charspan=(0, 3))], orig='300', text='300'), TextItem(self_ref='#/texts/31', parent=RefItem(cref='#/pictures/0'), children=[], label=<DocItemLabel.TEXT: 'text'>, prov=[ProvenanceItem(page_no=1, bbox=BoundingBox(l=1.6666666666666667, t=704.0, r=37.333333333333336, b=677.3333333333333, coord_origin=<CoordOrigin.BOTTOMLEFT: 'BOTTOMLEFT'>), charspan=(0, 2))], orig='20', text='20'), TextItem(self_ref='#/texts/32', parent=RefItem(cref='#/pictures/0'), children=[], label=<DocItemLabel.TEXT: 'text'>, prov=[ProvenanceItem(page_no=1, bbox=BoundingBox(l=810.0, t=687.6666666666667, r=858.3333333333334, b=661.0, coord_origin=<CoordOrigin.BOTTOMLEFT: 'BOTTOMLEFT'>), charspan=(0, 3))], orig='200', text='200'), TextItem(self_ref='#/texts/33', parent=RefItem(cref='#/pictures/0'), children=[], label=<DocItemLabel.TEXT: 'text'>, prov=[ProvenanceItem(page_no=1, bbox=BoundingBox(l=4.0, t=633.3333333333333, r=37.333333333333336, b=609.3333333333334, coord_origin=<CoordOrigin.BOTTOMLEFT: 'BOTTOMLEFT'>), charspan=(0, 2))], orig='10', text='10'), TextItem(self_ref='#/texts/34', parent=RefItem(cref='#/pictures/0'), children=[], label=<DocItemLabel.TEXT: 'text'>, prov=[ProvenanceItem(page_no=1, bbox=BoundingBox(l=811.3333333333334, t=625.6666666666667, r=858.3333333333334, b=600.3333333333334, coord_origin=<CoordOrigin.BOTTOMLEFT: 'BOTTOMLEFT'>), charspan=(0, 3))], orig='100', text='100'), TextItem(self_ref='#/texts/35', parent=RefItem(cref='#/pictures/0'), children=[], label=<DocItemLabel.TEXT: 'text'>, prov=[ProvenanceItem(page_no=1, bbox=BoundingBox(l=612.3333333333334, t=592.3333333333334, r=630.3333333333334, b=569.3333333333334, coord_origin=<CoordOrigin.BOTTOMLEFT: 'BOTTOMLEFT'>), charspan=(0, 1))], orig='4', text='4'), TextItem(self_ref='#/texts/36', parent=RefItem(cref='#/pictures/0'), children=[], label=<DocItemLabel.TEXT: 'text'>, prov=[ProvenanceItem(page_no=1, bbox=BoundingBox(l=313.0, t=583.3333333333334, r=593.3333333333334, b=554.3333333333334, coord_origin=<CoordOrigin.BOTTOMLEFT: 'BOTTOMLEFT'>), charspan=(0, 23))], orig='Drowsiness Status Count', text='Drowsiness Status Count'), TextItem(self_ref='#/texts/37', parent=RefItem(cref='#/pictures/0'), children=[], label=<DocItemLabel.TEXT: 'text'>, prov=[ProvenanceItem(page_no=1, bbox=BoundingBox(l=1145.3333333333333, t=583.3333333333334, r=1376.6666666666667, b=554.3333333333334, coord_origin=<CoordOrigin.BOTTOMLEFT: 'BOTTOMLEFT'>), charspan=(0, 19))], orig='Person Status Count', text='Person Status Count'), TextItem(self_ref='#/texts/38', parent=RefItem(cref='#/pictures/0'), children=[], label=<DocItemLabel.TEXT: 'text'>, prov=[ProvenanceItem(page_no=1, bbox=BoundingBox(l=1413.6666666666667, t=577.0, r=1452.3333333333333, b=547.0, coord_origin=<CoordOrigin.BOTTOMLEFT: 'BOTTOMLEFT'>), charspan=(0, 2))], orig='14', text='14'), TextItem(self_ref='#/texts/39', parent=RefItem(cref='#/pictures/0'), children=[], label=<DocItemLabel.TEXT: 'text'>, prov=[ProvenanceItem(page_no=1, bbox=BoundingBox(l=1.3333333333333333, t=565.6666666666666, r=52.666666666666664, b=521.6666666666666, coord_origin=<CoordOrigin.BOTTOMLEFT: 'BOTTOMLEFT'>), charspan=(0, 3))], orig='480', text='480'), TextItem(self_ref='#/texts/40', parent=RefItem(cref='#/pictures/0'), children=[], label=<DocItemLabel.TEXT: 'text'>, prov=[ProvenanceItem(page_no=1, bbox=BoundingBox(l=809.6666666666666, t=565.6666666666666, r=862.6666666666666, b=521.6666666666666, coord_origin=<CoordOrigin.BOTTOMLEFT: 'BOTTOMLEFT'>), charspan=(0, 3))], orig='408', text='408'), TextItem(self_ref='#/texts/41', parent=RefItem(cref='#/pictures/0'), children=[], label=<DocItemLabel.TEXT: 'text'>, prov=[ProvenanceItem(page_no=1, bbox=BoundingBox(l=533.3333333333334, t=527.3333333333334, r=709.3333333333334, b=501.66666666666663, coord_origin=<CoordOrigin.BOTTOMLEFT: 'BOTTOMLEFT'>), charspan=(0, 15))], orig='Mobile detected', text='Mobile detected'), TextItem(self_ref='#/texts/42', parent=RefItem(cref='#/pictures/0'), children=[], label=<DocItemLabel.TEXT: 'text'>, prov=[ProvenanceItem(page_no=1, bbox=BoundingBox(l=3.0, t=490.66666666666663, r=50.0, b=464.0, coord_origin=<CoordOrigin.BOTTOMLEFT: 'BOTTOMLEFT'>), charspan=(0, 3))], orig='300', text='300'), TextItem(self_ref='#/texts/43', parent=RefItem(cref='#/pictures/0'), children=[], label=<DocItemLabel.TEXT: 'text'>, prov=[ProvenanceItem(page_no=1, bbox=BoundingBox(l=810.0, t=490.66666666666663, r=858.3333333333334, b=464.0, coord_origin=<CoordOrigin.BOTTOMLEFT: 'BOTTOMLEFT'>), charspan=(0, 3))], orig='300', text='300'), TextItem(self_ref='#/texts/44', parent=RefItem(cref='#/pictures/0'), children=[], label=<DocItemLabel.TEXT: 'text'>, prov=[ProvenanceItem(page_no=1, bbox=BoundingBox(l=1.6666666666666667, t=430.0, r=50.0, b=404.66666666666663, coord_origin=<CoordOrigin.BOTTOMLEFT: 'BOTTOMLEFT'>), charspan=(0, 3))], orig='200', text='200'), TextItem(self_ref='#/texts/45', parent=RefItem(cref='#/pictures/0'), children=[], label=<DocItemLabel.TEXT: 'text'>, prov=[ProvenanceItem(page_no=1, bbox=BoundingBox(l=3.0, t=369.33333333333337, r=51.0, b=342.66666666666663, coord_origin=<CoordOrigin.BOTTOMLEFT: 'BOTTOMLEFT'>), charspan=(0, 3))], orig='100', text='100'), TextItem(self_ref='#/texts/46', parent=RefItem(cref='#/pictures/0'), children=[], label=<DocItemLabel.TEXT: 'text'>, prov=[ProvenanceItem(page_no=1, bbox=BoundingBox(l=811.3333333333334, t=369.33333333333337, r=858.3333333333334, b=342.66666666666663, coord_origin=<CoordOrigin.BOTTOMLEFT: 'BOTTOMLEFT'>), charspan=(0, 3))], orig='100', text='100'), TextItem(self_ref='#/texts/47', parent=RefItem(cref='#/pictures/0'), children=[], label=<DocItemLabel.TEXT: 'text'>, prov=[ProvenanceItem(page_no=1, bbox=BoundingBox(l=605.0, t=324.33333333333337, r=641.3333333333334, b=294.33333333333337, coord_origin=<CoordOrigin.BOTTOMLEFT: 'BOTTOMLEFT'>), charspan=(0, 2))], orig='21', text='21'), TextItem(self_ref='#/texts/48', parent=RefItem(cref='#/pictures/0'), children=[], label=<DocItemLabel.TEXT: 'text'>, prov=[ProvenanceItem(page_no=1, bbox=BoundingBox(l=1042.3333333333333, t=326.66666666666663, r=1081.0, b=298.0, coord_origin=<CoordOrigin.BOTTOMLEFT: 'BOTTOMLEFT'>), charspan=(0, 2))], orig='27', text='27'), TextItem(self_ref='#/texts/49', parent=RefItem(cref='#/pictures/0'), children=[], label=<DocItemLabel.TEXT: 'text'>, prov=[ProvenanceItem(page_no=1, bbox=BoundingBox(l=31.333333333333332, t=306.66666666666663, r=50.333333333333336, b=284.0, coord_origin=<CoordOrigin.BOTTOMLEFT: 'BOTTOMLEFT'>), charspan=(0, 1))], orig='0', text='0'), TextItem(self_ref='#/texts/50', parent=RefItem(cref='#/pictures/0'), children=[], label=<DocItemLabel.TEXT: 'text'>, prov=[ProvenanceItem(page_no=1, bbox=BoundingBox(l=840.0, t=306.66666666666663, r=857.6666666666666, b=284.0, coord_origin=<CoordOrigin.BOTTOMLEFT: 'BOTTOMLEFT'>), charspan=(0, 1))], orig='0', text='0'), TextItem(self_ref='#/texts/51', parent=RefItem(cref='#/pictures/0'), children=[], label=<DocItemLabel.TEXT: 'text'>, prov=[ProvenanceItem(page_no=1, bbox=BoundingBox(l=192.66666666666666, t=274.33333333333337, r=320.0, b=237.33333333333337, coord_origin=<CoordOrigin.BOTTOMLEFT: 'BOTTOMLEFT'>), charspan=(0, 10))], orig='Not Sleepy', text='Not Sleepy'), TextItem(self_ref='#/texts/52', parent=RefItem(cref='#/pictures/0'), children=[], label=<DocItemLabel.TEXT: 'text'>, prov=[ProvenanceItem(page_no=1, bbox=BoundingBox(l=581.3333333333334, t=274.33333333333337, r=668.6666666666666, b=237.0, coord_origin=<CoordOrigin.BOTTOMLEFT: 'BOTTOMLEFT'>), charspan=(0, 6))], orig='Sleepy', text='Sleepy'), TextItem(self_ref='#/texts/53', parent=RefItem(cref='#/pictures/0'), children=[], label=<DocItemLabel.TEXT: 'text'>, prov=[ProvenanceItem(page_no=1, bbox=BoundingBox(l=954.0, t=270.66666666666663, r=1173.0, b=245.33333333333337, coord_origin=<CoordOrigin.BOTTOMLEFT: 'BOTTOMLEFT'>), charspan=(0, 18))], orig='No Person detected', text='No Person detected'), TextItem(self_ref='#/texts/54', parent=RefItem(cref='#/pictures/0'), children=[], label=<DocItemLabel.TEXT: 'text'>, prov=[ProvenanceItem(page_no=1, bbox=BoundingBox(l=1343.3333333333333, t=270.66666666666663, r=1524.0, b=245.33333333333337, coord_origin=<CoordOrigin.BOTTOMLEFT: 'BOTTOMLEFT'>), charspan=(0, 15))], orig='Person detected', text='Person detected'), TextItem(self_ref='#/texts/55', parent=RefItem(cref='#/pictures/0'), children=[], label=<DocItemLabel.TEXT: 'text'>, prov=[ProvenanceItem(page_no=1, bbox=BoundingBox(l=1038.0421372367325, t=800.9893865234299, r=1167.2911960966007, b=747.3439468099034, coord_origin=<CoordOrigin.BOTTOMLEFT: 'BOTTOMLEFT'>), charspan=(0, 9))], orig='373ooking', text='373ooking'), TextItem(self_ref='#/texts/56', parent=RefItem(cref='#/pictures/0'), children=[], label=<DocItemLabel.TEXT: 'text'>, prov=[ProvenanceItem(page_no=1, bbox=BoundingBox(l=77.31029797960993, t=788.6475621229611, r=142.0230353537234, b=751.0191045437057, coord_origin=<CoordOrigin.BOTTOMLEFT: 'BOTTOMLEFT'>), charspan=(0, 5))], orig='Angry', text='Angry')], pictures=[PictureItem(self_ref='#/pictures/0', parent=RefItem(cref='#/body'), children=[RefItem(cref='#/texts/0'), RefItem(cref='#/texts/1'), RefItem(cref='#/texts/2'), RefItem(cref='#/texts/3'), RefItem(cref='#/texts/4'), RefItem(cref='#/texts/5'), RefItem(cref='#/texts/6'), RefItem(cref='#/texts/7'), RefItem(cref='#/texts/8'), RefItem(cref='#/texts/9'), RefItem(cref='#/texts/10'), RefItem(cref='#/texts/11'), RefItem(cref='#/texts/12'), RefItem(cref='#/texts/13'), RefItem(cref='#/texts/14'), RefItem(cref='#/texts/15'), RefItem(cref='#/texts/16'), RefItem(cref='#/texts/17'), RefItem(cref='#/texts/18'), RefItem(cref='#/texts/19'), RefItem(cref='#/texts/20'), RefItem(cref='#/texts/21'), RefItem(cref='#/texts/22'), RefItem(cref='#/texts/23'), RefItem(cref='#/texts/24'), RefItem(cref='#/texts/25'), RefItem(cref='#/texts/26'), RefItem(cref='#/texts/27'), RefItem(cref='#/texts/28'), RefItem(cref='#/texts/29'), RefItem(cref='#/texts/30'), RefItem(cref='#/texts/31'), RefItem(cref='#/texts/32'), RefItem(cref='#/texts/33'), RefItem(cref='#/texts/34'), RefItem(cref='#/texts/35'), RefItem(cref='#/texts/36'), RefItem(cref='#/texts/37'), RefItem(cref='#/texts/38'), RefItem(cref='#/texts/39'), RefItem(cref='#/texts/40'), RefItem(cref='#/texts/41'), RefItem(cref='#/texts/42'), RefItem(cref='#/texts/43'), RefItem(cref='#/texts/44'), RefItem(cref='#/texts/45'), RefItem(cref='#/texts/46'), RefItem(cref='#/texts/47'), RefItem(cref='#/texts/48'), RefItem(cref='#/texts/49'), RefItem(cref='#/texts/50'), RefItem(cref='#/texts/51'), RefItem(cref='#/texts/52'), RefItem(cref='#/texts/53'), RefItem(cref='#/texts/54'), RefItem(cref='#/texts/55'), RefItem(cref='#/texts/56')], label=<DocItemLabel.PICTURE: 'picture'>, prov=[ProvenanceItem(page_no=1, bbox=BoundingBox(l=1.5856554508209229, t=1106.8380126953125, r=1617.0, b=241.48040771484375, coord_origin=<CoordOrigin.BOTTOMLEFT: 'BOTTOMLEFT'>), charspan=(0, 0))], captions=[], references=[], footnotes=[], image=None, annotations=[])], tables=[], key_value_items=[], pages={1: PageItem(size=Size(width=1617.0, height=1134.0), image=None, page_no=1)})"
      ]
     },
     "execution_count": 26,
     "metadata": {},
     "output_type": "execute_result"
    }
   ],
   "source": [
    "scrape_file(file)"
   ]
  },
  {
   "cell_type": "code",
   "execution_count": 18,
   "metadata": {},
   "outputs": [],
   "source": [
    "csv_file = r'C:\\Users\\HariharanAS\\Desktop\\folder\\idl.csv'"
   ]
  },
  {
   "cell_type": "code",
   "execution_count": 19,
   "metadata": {},
   "outputs": [],
   "source": [
    "# convert this csv file to a dataframe\n",
    "import pandas as pd\n",
    "df = pd.read_csv(csv_file)\n"
   ]
  },
  {
   "cell_type": "code",
   "execution_count": 24,
   "metadata": {},
   "outputs": [
    {
     "data": {
      "text/html": [
       "<div>\n",
       "<style scoped>\n",
       "    .dataframe tbody tr th:only-of-type {\n",
       "        vertical-align: middle;\n",
       "    }\n",
       "\n",
       "    .dataframe tbody tr th {\n",
       "        vertical-align: top;\n",
       "    }\n",
       "\n",
       "    .dataframe thead th {\n",
       "        text-align: right;\n",
       "    }\n",
       "</style>\n",
       "<table border=\"1\" class=\"dataframe\">\n",
       "  <thead>\n",
       "    <tr style=\"text-align: right;\">\n",
       "      <th></th>\n",
       "      <th>No</th>\n",
       "      <th>tournament_name</th>\n",
       "      <th>tournament_date</th>\n",
       "      <th>email</th>\n",
       "      <th>name</th>\n",
       "      <th>grade</th>\n",
       "      <th>format</th>\n",
       "      <th>team_name</th>\n",
       "      <th>team_member2</th>\n",
       "      <th>team_member3</th>\n",
       "      <th>Score 1</th>\n",
       "      <th>judge email</th>\n",
       "      <th>judge name</th>\n",
       "      <th>opponent team_name</th>\n",
       "      <th>verdict</th>\n",
       "      <th>judge feedback</th>\n",
       "      <th>motion</th>\n",
       "    </tr>\n",
       "  </thead>\n",
       "  <tbody>\n",
       "    <tr>\n",
       "      <th>0</th>\n",
       "      <td>1</td>\n",
       "      <td>FSDL</td>\n",
       "      <td>2024-05-05</td>\n",
       "      <td>kishore@augli.ai</td>\n",
       "      <td>kishore</td>\n",
       "      <td>11</td>\n",
       "      <td>kesoe</td>\n",
       "      <td>team 44</td>\n",
       "      <td>siri</td>\n",
       "      <td>karna</td>\n",
       "      <td>33</td>\n",
       "      <td>judge23@gmail.com</td>\n",
       "      <td>Ganesh</td>\n",
       "      <td>team 66</td>\n",
       "      <td>1.0</td>\n",
       "      <td>good</td>\n",
       "      <td>r1</td>\n",
       "    </tr>\n",
       "    <tr>\n",
       "      <th>1</th>\n",
       "      <td>2</td>\n",
       "      <td>ertr</td>\n",
       "      <td>2024-06-07</td>\n",
       "      <td>kiran@gmail.com</td>\n",
       "      <td>anand</td>\n",
       "      <td>12</td>\n",
       "      <td>kdla</td>\n",
       "      <td>team 44</td>\n",
       "      <td>giri</td>\n",
       "      <td>suman</td>\n",
       "      <td>22</td>\n",
       "      <td>jud@gmail.com</td>\n",
       "      <td>kiranr</td>\n",
       "      <td>tema32</td>\n",
       "      <td>300.0</td>\n",
       "      <td>fine</td>\n",
       "      <td>f3</td>\n",
       "    </tr>\n",
       "  </tbody>\n",
       "</table>\n",
       "</div>"
      ],
      "text/plain": [
       "   No tournament_name tournament_date             email     name  grade  \\\n",
       "0   1            FSDL      2024-05-05  kishore@augli.ai  kishore     11   \n",
       "1   2            ertr      2024-06-07   kiran@gmail.com    anand     12   \n",
       "\n",
       "  format team_name team_member2 team_member3  Score 1        judge email  \\\n",
       "0  kesoe   team 44         siri        karna       33  judge23@gmail.com   \n",
       "1   kdla   team 44         giri        suman       22      jud@gmail.com   \n",
       "\n",
       "  judge name opponent team_name  verdict judge feedback motion  \n",
       "0     Ganesh            team 66      1.0           good     r1  \n",
       "1     kiranr             tema32    300.0           fine     f3  "
      ]
     },
     "execution_count": 24,
     "metadata": {},
     "output_type": "execute_result"
    }
   ],
   "source": [
    "df"
   ]
  },
  {
   "cell_type": "code",
   "execution_count": 22,
   "metadata": {},
   "outputs": [],
   "source": [
    "# save this dataframe to a excel file\n",
    "df.to_excel(r'C:\\Users\\HariharanAS\\Desktop\\folder\\idl.xlsx', index=False)\n"
   ]
  }
 ],
 "metadata": {
  "kernelspec": {
   "display_name": ".venv",
   "language": "python",
   "name": "python3"
  },
  "language_info": {
   "codemirror_mode": {
    "name": "ipython",
    "version": 3
   },
   "file_extension": ".py",
   "mimetype": "text/x-python",
   "name": "python",
   "nbconvert_exporter": "python",
   "pygments_lexer": "ipython3",
   "version": "3.12.2"
  }
 },
 "nbformat": 4,
 "nbformat_minor": 2
}
