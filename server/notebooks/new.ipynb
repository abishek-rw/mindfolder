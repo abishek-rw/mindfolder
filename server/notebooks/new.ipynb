{
 "cells": [
  {
   "cell_type": "code",
   "execution_count": 1,
   "metadata": {},
   "outputs": [
    {
     "name": "stderr",
     "output_type": "stream",
     "text": [
      "c:\\Github\\mindfolder\\.venv\\Lib\\site-packages\\tqdm\\auto.py:21: TqdmWarning: IProgress not found. Please update jupyter and ipywidgets. See https://ipywidgets.readthedocs.io/en/stable/user_install.html\n",
      "  from .autonotebook import tqdm as notebook_tqdm\n"
     ]
    }
   ],
   "source": [
    "from docling.document_converter import DocumentConverter, PdfFormatOption, WordFormatOption, ExcelFormatOption\n",
    "from docling.datamodel.pipeline_options import (\n",
    "    PdfPipelineOptions,\n",
    "    TableFormerMode,\n",
    "    AcceleratorDevice,\n",
    "    AcceleratorOptions,\n",
    "    RapidOcrOptions,\n",
    ")\n",
    "from docling.datamodel.base_models import InputFormat\n",
    "from docling.backend import pypdfium2_backend\n",
    "from docling_core.transforms.chunker.hybrid_chunker import HybridChunker\n",
    "from docling.pipeline.simple_pipeline import SimplePipeline"
   ]
  },
  {
   "cell_type": "code",
   "execution_count": 2,
   "metadata": {},
   "outputs": [],
   "source": [
    "def scrape_file(file_path):\n",
    "    try:\n",
    "        ocr_options = RapidOcrOptions()\n",
    "        pipeline_options = PdfPipelineOptions(do_table_structure=True, do_ocr=True)\n",
    "        pipeline_options.ocr_options = ocr_options\n",
    "        pipeline_options.ocr_options.lang = [\"en\"]\n",
    "        pipeline_options.accelerator_options = AcceleratorOptions(\n",
    "            num_threads=4, device=AcceleratorDevice.CUDA\n",
    "        )\n",
    "        pipeline_options.table_structure_options.do_cell_matching = False\n",
    "        pipeline_options.table_structure_options.mode = TableFormerMode.ACCURATE\n",
    "\n",
    "        pipeline_options.create_legacy_output = True\n",
    "\n",
    "        converter = DocumentConverter(\n",
    "            allowed_formats=[\n",
    "                InputFormat.PDF,\n",
    "                InputFormat.IMAGE,\n",
    "                InputFormat.DOCX,\n",
    "                InputFormat.HTML,\n",
    "                InputFormat.PPTX,\n",
    "                InputFormat.ASCIIDOC,\n",
    "                InputFormat.MD,\n",
    "                InputFormat.XLSX,\n",
    "            ],\n",
    "            format_options={\n",
    "                InputFormat.PDF: PdfFormatOption(\n",
    "                    pipeline_options=pipeline_options,\n",
    "                    backend=pypdfium2_backend.PyPdfiumDocumentBackend,\n",
    "                ),\n",
    "                InputFormat.DOCX: WordFormatOption(\n",
    "                    pipeline_cls=SimplePipeline  \n",
    "                ),\n",
    "                InputFormat.XLSX: ExcelFormatOption(\n",
    "                    pipeline_cls=SimplePipeline\n",
    "                ),\n",
    "            }\n",
    "        )\n",
    "        doc = converter.convert(source=file_path).document\n",
    "        print(\"Processed\")\n",
    "        return doc\n",
    "    except Exception as e:\n",
    "        return e"
   ]
  },
  {
   "cell_type": "code",
   "execution_count": 3,
   "metadata": {},
   "outputs": [],
   "source": [
    "file = r'C:\\Github\\mindfolder\\server\\notebooks\\test\\Builder_ai_Overview.pdf'\n"
   ]
  },
  {
   "cell_type": "code",
   "execution_count": 5,
   "metadata": {},
   "outputs": [
    {
     "name": "stderr",
     "output_type": "stream",
     "text": [
      "CUDA is not available in the system. Fall back to 'CPU'\n",
      "CUDA is not available in the system. Fall back to 'CPU'\n",
      "CUDA is not available in the system. Fall back to 'CPU'\n"
     ]
    },
    {
     "name": "stdout",
     "output_type": "stream",
     "text": [
      "Processed\n"
     ]
    }
   ],
   "source": [
    "resp = scrape_file(file)"
   ]
  },
  {
   "cell_type": "code",
   "execution_count": 7,
   "metadata": {},
   "outputs": [],
   "source": [
    "output= r'C:\\Github\\mindfolder\\server\\notebooks\\test\\test.md'\n",
    "\n",
    "with open(output, 'w') as f:\n",
    "    f.write(resp.export_to_markdown())"
   ]
  }
 ],
 "metadata": {
  "kernelspec": {
   "display_name": ".venv",
   "language": "python",
   "name": "python3"
  },
  "language_info": {
   "codemirror_mode": {
    "name": "ipython",
    "version": 3
   },
   "file_extension": ".py",
   "mimetype": "text/x-python",
   "name": "python",
   "nbconvert_exporter": "python",
   "pygments_lexer": "ipython3",
   "version": "3.12.1"
  }
 },
 "nbformat": 4,
 "nbformat_minor": 2
}
